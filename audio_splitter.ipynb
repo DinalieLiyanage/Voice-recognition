{
  "nbformat": 4,
  "nbformat_minor": 0,
  "metadata": {
    "colab": {
      "name": "audio_splitter.ipynb",
      "provenance": [],
      "collapsed_sections": [],
      "authorship_tag": "ABX9TyPhFxW0wLBI/0gcqS67GO+3",
      "include_colab_link": true
    },
    "kernelspec": {
      "name": "python3",
      "display_name": "Python 3"
    },
    "accelerator": "GPU"
  },
  "cells": [
    {
      "cell_type": "markdown",
      "metadata": {
        "id": "view-in-github",
        "colab_type": "text"
      },
      "source": [
        "<a href=\"https://colab.research.google.com/github/DinalieLiyanage/Voice-recognition/blob/master/audio_splitter.ipynb\" target=\"_parent\"><img src=\"https://colab.research.google.com/assets/colab-badge.svg\" alt=\"Open In Colab\"/></a>"
      ]
    },
    {
      "cell_type": "code",
      "metadata": {
        "colab": {
          "base_uri": "https://localhost:8080/"
        },
        "id": "IOE5IWtfKx9d",
        "outputId": "30e48b49-a0a5-46c9-c8d4-0554ab5814e3"
      },
      "source": [
        "!git init"
      ],
      "execution_count": 53,
      "outputs": [
        {
          "output_type": "stream",
          "text": [
            "Initialized empty Git repository in /content/.git/\n"
          ],
          "name": "stdout"
        }
      ]
    },
    {
      "cell_type": "code",
      "metadata": {
        "id": "u1-wS3E8K4H8"
      },
      "source": [
        "!git remote add origin https://github.com/DinalieLiyanage/Voice-recognition.git"
      ],
      "execution_count": 54,
      "outputs": []
    },
    {
      "cell_type": "code",
      "metadata": {
        "id": "3lqyyr8IK9fh"
      },
      "source": [
        "!git config --global user.email 'bhagyafdo97@gmail.com'\r\n",
        "!git config --global user.name 'DinalieLiyanage'"
      ],
      "execution_count": 56,
      "outputs": []
    },
    {
      "cell_type": "code",
      "metadata": {
        "colab": {
          "base_uri": "https://localhost:8080/"
        },
        "id": "hZP9Z-wcLOOW",
        "outputId": "e417c939-8df6-4466-b744-8af22eef0a47"
      },
      "source": [
        "!git fetch"
      ],
      "execution_count": 57,
      "outputs": [
        {
          "output_type": "stream",
          "text": [
            "fatal: could not read Username for 'https://github.com': No such device or address\n"
          ],
          "name": "stdout"
        }
      ]
    },
    {
      "cell_type": "code",
      "metadata": {
        "id": "S2Km2YvK9MsJ"
      },
      "source": [
        "!pip install tensorflow-io"
      ],
      "execution_count": null,
      "outputs": []
    },
    {
      "cell_type": "code",
      "metadata": {
        "colab": {
          "base_uri": "https://localhost:8080/"
        },
        "id": "TmxXojAT-OVE",
        "outputId": "6cd1df3d-7594-4f4a-b8ad-4ff0c47f24c4"
      },
      "source": [
        "import tensorflow as tf\r\n",
        "import tensorflow_io as tfio\r\n",
        "\r\n",
        "audio = tfio.audio.AudioIOTensor('/content/lunch-1.wav')\r\n",
        "\r\n",
        "print(audio)"
      ],
      "execution_count": null,
      "outputs": [
        {
          "output_type": "stream",
          "text": [
            "<AudioIOTensor: shape=[51713     2], dtype=<dtype: 'int16'>, rate=44100>\n"
          ],
          "name": "stdout"
        }
      ]
    },
    {
      "cell_type": "code",
      "metadata": {
        "colab": {
          "base_uri": "https://localhost:8080/"
        },
        "id": "X8iMGS7UAjWI",
        "outputId": "874cb896-14e5-44e7-b48e-87d3378d614c"
      },
      "source": [
        "!pip install pydub"
      ],
      "execution_count": null,
      "outputs": [
        {
          "output_type": "stream",
          "text": [
            "Collecting pydub\n",
            "  Downloading https://files.pythonhosted.org/packages/7b/d1/fbfa79371a8cd9bb15c2e3c480d7e6e340ed5cc55005174e16f48418333a/pydub-0.24.1-py2.py3-none-any.whl\n",
            "Installing collected packages: pydub\n",
            "Successfully installed pydub-0.24.1\n"
          ],
          "name": "stdout"
        }
      ]
    },
    {
      "cell_type": "code",
      "metadata": {
        "id": "LHmINXQ-Ay6V"
      },
      "source": [
        "from pydub import AudioSegment\r\n",
        "from pydub.silence import split_on_silence\r\n",
        "\r\n",
        "import tensorflow as tf\r\n",
        "import tensorflow_io as tfio"
      ],
      "execution_count": null,
      "outputs": []
    },
    {
      "cell_type": "code",
      "metadata": {
        "colab": {
          "base_uri": "https://localhost:8080/"
        },
        "id": "xUtu3ukNEQES",
        "outputId": "f387c201-2d8e-49db-83db-559ebe153f3e"
      },
      "source": [
        "def match_target_amplitude(aChunk, target_dBFS):\r\n",
        "    ''' Normalize given audio chunk '''\r\n",
        "    change_in_dBFS = target_dBFS - aChunk.dBFS\r\n",
        "    return aChunk.apply_gain(change_in_dBFS)\r\n",
        "\r\n",
        "# Load your audio.\r\n",
        "song = AudioSegment.from_mp3('/content/lunch-1.mp3')\r\n",
        "\r\n",
        "print(song)"
      ],
      "execution_count": null,
      "outputs": [
        {
          "output_type": "stream",
          "text": [
            "<pydub.audio_segment.AudioSegment object at 0x7ff144f10e48>\n"
          ],
          "name": "stdout"
        }
      ]
    },
    {
      "cell_type": "code",
      "metadata": {
        "colab": {
          "base_uri": "https://localhost:8080/"
        },
        "id": "qPYnDmFbEZlQ",
        "outputId": "6243e474-3ad3-4ac3-8c6d-a3b51f0ddb2e"
      },
      "source": [
        "chunks = split_on_silence (\r\n",
        "    # Use the loaded audio.\r\n",
        "    song, \r\n",
        "    # Specify that a silent chunk must be at least 2 seconds or 2000 ms long.\r\n",
        "    min_silence_len = 200,\r\n",
        "    # Consider a chunk silent if it's quieter than -16 dBFS.\r\n",
        "    # (You may want to adjust this parameter.)\r\n",
        "    silence_thresh = -25\r\n",
        ")\r\n",
        "print(len(chunks))"
      ],
      "execution_count": null,
      "outputs": [
        {
          "output_type": "stream",
          "text": [
            "3\n"
          ],
          "name": "stdout"
        }
      ]
    },
    {
      "cell_type": "code",
      "metadata": {
        "colab": {
          "base_uri": "https://localhost:8080/"
        },
        "id": "e6gA380CEhKb",
        "outputId": "9cc7cb5c-bf0e-478d-ff31-dc6e96a55bcc"
      },
      "source": [
        "print(\"processingggg\")\r\n",
        "# Process each chunk with your parameters\r\n",
        "for i, chunk in enumerate(chunks):\r\n",
        "    print('insideee')\r\n",
        "    # Create a silence chunk that's 0.5 seconds (or 500 ms) long for padding.\r\n",
        "    silence_chunk = AudioSegment.silent(duration=500)\r\n",
        "\r\n",
        "    # Add the padding chunk to beginning and end of the entire chunk.\r\n",
        "    audio_chunk = silence_chunk + chunk + silence_chunk\r\n",
        "\r\n",
        "    # Normalize the entire chunk.\r\n",
        "    normalized_chunk = match_target_amplitude(audio_chunk, -20.0)\r\n",
        "\r\n",
        "    # Export the audio chunk with new bitrate.\r\n",
        "    print(\"Exporting chunk{0}.mp3.\".format(i))\r\n",
        "    file = normalized_chunk.export(\r\n",
        "        \".//chunk{0}.mp3\".format(i),\r\n",
        "        bitrate = \"192k\",\r\n",
        "        format = \"mp3\"\r\n",
        "    )\r\n",
        "    "
      ],
      "execution_count": null,
      "outputs": [
        {
          "output_type": "stream",
          "text": [
            "processingggg\n",
            "insideee\n",
            "Exporting chunk0.mp3.\n",
            "insideee\n",
            "Exporting chunk1.mp3.\n",
            "insideee\n",
            "Exporting chunk2.mp3.\n"
          ],
          "name": "stdout"
        }
      ]
    }
  ]
}